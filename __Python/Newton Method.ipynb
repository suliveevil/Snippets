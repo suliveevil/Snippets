{
 "cells": [
  {
   "cell_type": "code",
   "execution_count": 2,
   "metadata": {},
   "outputs": [
    {
     "name": "stdout",
     "output_type": "stream",
     "text": [
      "please input a number:\n",
      "10\n",
      "<function squareroot at 0x1026c6950>\n"
     ]
    }
   ],
   "source": [
    "n = float(input(\"please input a number:\\n\"))\n",
    "\n",
    "def squareroot(n):\n",
    "    root = n/2\n",
    "    for k in range(20):\n",
    "        root = (1/2)*(root + (n/root))\n",
    "    return root   \n",
    "squareroot(n)\n",
    "\n",
    "print(squareroot)"
   ]
  },
  {
   "cell_type": "code",
   "execution_count": null,
   "metadata": {},
   "outputs": [],
   "source": []
  }
 ],
 "metadata": {
  "kernelspec": {
   "display_name": "Python 3",
   "language": "python",
   "name": "python3"
  },
  "language_info": {
   "codemirror_mode": {
    "name": "ipython",
    "version": 3
   },
   "file_extension": ".py",
   "mimetype": "text/x-python",
   "name": "python",
   "nbconvert_exporter": "python",
   "pygments_lexer": "ipython3",
   "version": "3.7.1"
  }
 },
 "nbformat": 4,
 "nbformat_minor": 2
}
